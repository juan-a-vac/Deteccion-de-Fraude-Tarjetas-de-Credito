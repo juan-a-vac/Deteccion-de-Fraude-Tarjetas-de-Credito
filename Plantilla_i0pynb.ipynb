{
  "nbformat": 4,
  "nbformat_minor": 0,
  "metadata": {
    "colab": {
      "provenance": [],
      "authorship_tag": "ABX9TyMsN1v7P9Hb4pm/izBD2cG+",
      "include_colab_link": true
    },
    "kernelspec": {
      "name": "python3",
      "display_name": "Python 3"
    },
    "language_info": {
      "name": "python"
    }
  },
  "cells": [
    {
      "cell_type": "markdown",
      "metadata": {
        "id": "view-in-github",
        "colab_type": "text"
      },
      "source": [
        "<a href=\"https://colab.research.google.com/github/juan-a-vac/Deteccion-de-Fraude-Tarjetas-de-Credito/blob/main/Plantilla_i0pynb.ipynb\" target=\"_parent\"><img src=\"https://colab.research.google.com/assets/colab-badge.svg\" alt=\"Open In Colab\"/></a>"
      ]
    },
    {
      "cell_type": "markdown",
      "source": [
        "# 1) Entendimiento del problema y definicion del objetivo\n",
        "estas preguntas nos ayudan a determinar los objetivos de negocios que en nuestro entorno queremos resolver con un proyecto de ciencia de datos, si no sabemos para que hacemos el proyecto de ciencia de datos, va a ser dificial saber si estamos en el camino adecuado. Esta etapa consta mucho de hablar con el experto del negocio.\n",
        "\n",
        "Las siguientes preguntas son típicas en esta etapa:\n",
        "✔ ¿Qué exactamente deseamos hacer?\n",
        "✔ ¿Cómo exactamente podremos hacerlo?\n",
        "✔ ¿Es posible lo que deseo dada la data que tengo?"
      ],
      "metadata": {
        "id": "2zsn_CF9aZE1"
      }
    },
    {
      "cell_type": "markdown",
      "source": [
        "# 2)Recoleccion de datos (Data Acquisition)"
      ],
      "metadata": {
        "id": "0NgTlMfsatzc"
      }
    },
    {
      "cell_type": "markdown",
      "source": [
        "# 3)Preprocesamiento de datos (Data Wrangling)\n",
        " implica remover discrepancias de tus datos (nulos, outliers, duplicados).\n",
        " Eliminar o inferir datos perdidos, categorizar los valores de  las variables, normalizar los valores numéricos o escalarlos para que puedan ser comparables.\n",
        "\n",
        " Data Cleaning: También se conoce como scrubbing (depuramiento), consiste en \n",
        "rellenar valores nulos, suavizamiento y remoción de datos con ruido y outliers con inconsistencias\n",
        "\n",
        "Data Integration: integración de datos con  múltiples bases de datos (relacional y no  relacional), cubos de datos, etc. Los datos pueden ser estructurados, semi-estructurados y no estructurados.\n",
        "\n",
        "Data Transformation: Consiste en la normalización y agregación de acuerdo con \n",
        "las necesidades\n",
        "\n",
        "Data reduction: Se pueden reducir la  cantidad de instancias y features \n",
        "(variables) \n",
        "\n",
        "Data Discretization: Se considera parte de Data reduction. Valores categóricos se pueden reemplazar por números con  técnicas como One Hot Encoding o\n",
        "LabelEncoder\n"
      ],
      "metadata": {
        "id": "36utifE3a1Tv"
      }
    },
    {
      "cell_type": "markdown",
      "source": [
        "#4)Analisis de datos /  Exploratory Data Analysis (EDA) \n",
        "estadistica para presentar resúmenes numéricos y gráficas apropiadas  de acuerdo a la naturaleza de las variables analizadas\n",
        "\n",
        "1. Analitica descriptiva: que ha pasado en el pasado y tiene carácter meramente exploratorio\n",
        "2. Analitica preditiva: que podría pasar en el futuro, se pueden usar técnicas estadísticas o de Machine Learning para estimar el futuro\n",
        "3. Analitica Prescriptiva: que deberiamos hacer, podemos usar metodos de optimización o simulación para tomar decisiones y describir posibles resultados "
      ],
      "metadata": {
        "id": "YNyjLLQMa8J0"
      }
    },
    {
      "cell_type": "markdown",
      "source": [
        "#5) Seleccion de datos (Feature selection) y Modelamiento\n",
        "\n",
        "Se usa para encontrar patrones y comportamientos en los datos. \n",
        "Esto se puede lograr de dos formas usualmente\n",
        "1. Modelamiento descriptivo (No Supervisado): que nos permite encontrar grupos y patrones ocultos\n",
        "2. Modelamiento predictivo (supervisado): obtener predicciones futuras con base en información del pasado"
      ],
      "metadata": {
        "id": "h8N_HY_rbVMf"
      }
    },
    {
      "cell_type": "markdown",
      "source": [
        "#6) Evaluacion \n",
        "En esta etapa se cuantifica el desempeño del modelo creado previamente. Para esto se dividen los datos en dos partes: train/entrenamiento (70%) que permiten calibrar los modelos y test/validación (30%) que permiten  obtener las métricas correspondiente\n",
        "Las métricas elegidas varían de acuerdo al algoritmo elegido, existen medidas tanto para clasificación como para regresión\n",
        "\n",
        "En el caso de que los resultados no sean satisfactorios,  deberemos volver a la etapa 5 hasta que nuestro modelo se ajuste bien a las dos particiones (data de entrenamiento y data de validación)."
      ],
      "metadata": {
        "id": "-_J0SV1Jb6Jy"
      }
    },
    {
      "cell_type": "code",
      "source": [],
      "metadata": {
        "id": "cGeN8ZetcI8a"
      },
      "execution_count": null,
      "outputs": []
    }
  ]
}